{
 "cells": [
  {
   "cell_type": "markdown",
   "id": "5620b03a",
   "metadata": {},
   "source": [
    "# Reference: https://www.calculator.net/bmi-calculator.html"
   ]
  },
  {
   "cell_type": "markdown",
   "id": "cd310a63",
   "metadata": {},
   "source": [
    "BMI Formula\n",
    "BMI = mass(kg)/(height*height)(m)\n"
   ]
  },
  {
   "cell_type": "markdown",
   "id": "436026fc",
   "metadata": {},
   "source": [
    "Collecting details like Name, Height(m), Weight(Kg) and validating them."
   ]
  },
  {
   "cell_type": "code",
   "execution_count": 1,
   "id": "da096f90",
   "metadata": {},
   "outputs": [
    {
     "name": "stdout",
     "output_type": "stream",
     "text": [
      "Welcome to the Adult BMI Calculator. Enter your name: Karina\n"
     ]
    }
   ],
   "source": [
    "while True:\n",
    "    try:\n",
    "        name = input(\"Welcome to the Adult BMI Calculator. Enter your name: \").capitalize()\n",
    "        if len(name) > 1 and name.isalpha():\n",
    "            break\n",
    "    except:\n",
    "        print(\"Oops!  That was not a valid name. Try again...\")"
   ]
  },
  {
   "cell_type": "code",
   "execution_count": 2,
   "id": "1382fc09",
   "metadata": {},
   "outputs": [
    {
     "name": "stdout",
     "output_type": "stream",
     "text": [
      "Hi Karina..Please enter your height in meters: 1.56\n"
     ]
    }
   ],
   "source": [
    "while True:\n",
    "    try:\n",
    "        height = float(input(\"Hi {fname}..Please enter your height in meters: \".format(fname = name)))\n",
    "        if height >= 1.3 and height < 2: #Please refer to the BMI chart in above link for this condition.\n",
    "            break\n",
    "    except ValueError:    \n",
    "        print(\"Oops!  That was not a valid height. Try again...\")\n",
    "    "
   ]
  },
  {
   "cell_type": "code",
   "execution_count": 3,
   "id": "869214fa",
   "metadata": {},
   "outputs": [
    {
     "name": "stdout",
     "output_type": "stream",
     "text": [
      "Please enter your weight in kilograms: 55\n"
     ]
    }
   ],
   "source": [
    "while True:\n",
    "    try:\n",
    "        weight = float(input(\"Please enter your weight in kilograms: \"))\n",
    "        if weight >= 40 and weight < 160: #Please refer to the BMI chart in above link for this condition.\n",
    "            break\n",
    "    except ValueError:    \n",
    "        print(\"Oops!  That was not a valid weight. Try again...\")\n",
    "    "
   ]
  },
  {
   "cell_type": "code",
   "execution_count": 4,
   "id": "8e5921e7",
   "metadata": {},
   "outputs": [
    {
     "name": "stdout",
     "output_type": "stream",
     "text": [
      "Your BMI is 22.60\n"
     ]
    }
   ],
   "source": [
    "bmi = weight/pow(height, 2)\n",
    "print(\"Your BMI is {ibmi:.2f}\".format(ibmi = bmi))"
   ]
  },
  {
   "cell_type": "markdown",
   "id": "3a6976df",
   "metadata": {},
   "source": [
    "# Analyzing the BMI\n",
    "\n",
    "Severe Thinness = BMI < 16\n",
    "Moderate Thinness = BMI between 16 - 17\n",
    "Mild Thinness = BMI between 17 - 18.5\n",
    "Normal = BMI between 18.5 - 25\n",
    "Overweight = BMI between 25 - 30\n",
    "Obese Class I = BMI between 30 - 35\n",
    "Obese Class II = BMI between 35 - 40\n",
    "Obese Class III = BMI > 40"
   ]
  },
  {
   "cell_type": "code",
   "execution_count": 5,
   "id": "e6c0f208",
   "metadata": {},
   "outputs": [
    {
     "name": "stdout",
     "output_type": "stream",
     "text": [
      "Karina, you are normal.\n"
     ]
    }
   ],
   "source": [
    "if bmi < 16:\n",
    "    print(\"{fname}, you are underweight.(Severe Thinness)\".format(fname = name))\n",
    "elif bmi >= 16 and bmi < 17:\n",
    "    print(\"{fname}, you are underweight.(Moderate Thinness)\".format(fname = name))\n",
    "elif bmi >= 17 and bmi < 18.5:\n",
    "    print(\"{fname}, you are underweight.(Mild Thinness)\".format(fname = name))\n",
    "elif bmi >= 18.5 and bmi < 25:\n",
    "    print(\"{fname}, your weight is normal.\".format(fname = name))\n",
    "elif bmi >= 25 and bmi < 30:\n",
    "    print(\"{fname}, you are overweight.\".format(fname = name))\n",
    "elif bmi >= 30 and bmi < 35:\n",
    "    print(\"{fname}, you are overweight.(Obese Class I)\".format(fname = name))\n",
    "elif bmi >= 35 and bmi < 40:\n",
    "    print(\"{fname}, you are overweight.(Obese Class II)\".format(fname = name))\n",
    "elif bmi >= 40:\n",
    "    print(\"{fname}, you are overweight.(Obese Class III)\".format(fname = name))\n",
    "else:\n",
    "    print(\"Please enter valid details\")"
   ]
  }
 ],
 "metadata": {
  "kernelspec": {
   "display_name": "Python 3 (ipykernel)",
   "language": "python",
   "name": "python3"
  },
  "language_info": {
   "codemirror_mode": {
    "name": "ipython",
    "version": 3
   },
   "file_extension": ".py",
   "mimetype": "text/x-python",
   "name": "python",
   "nbconvert_exporter": "python",
   "pygments_lexer": "ipython3",
   "version": "3.10.5"
  }
 },
 "nbformat": 4,
 "nbformat_minor": 5
}
